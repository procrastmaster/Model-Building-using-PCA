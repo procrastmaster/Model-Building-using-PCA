{
 "cells": [
  {
   "cell_type": "code",
   "execution_count": 67,
   "metadata": {},
   "outputs": [],
   "source": [
    "import pandas as pd\n",
    "import numpy as np\n",
    "import matplotlib.pyplot as plt\n",
    "import seaborn as sns\n",
    "from sklearn.preprocessing import MinMaxScaler\n",
    "from sklearn.model_selection import train_test_split\n",
    "from sklearn.metrics import mean_squared_error"
   ]
  },
  {
   "cell_type": "code",
   "execution_count": 68,
   "metadata": {},
   "outputs": [
    {
     "data": {
      "text/html": [
       "<div>\n",
       "<style scoped>\n",
       "    .dataframe tbody tr th:only-of-type {\n",
       "        vertical-align: middle;\n",
       "    }\n",
       "\n",
       "    .dataframe tbody tr th {\n",
       "        vertical-align: top;\n",
       "    }\n",
       "\n",
       "    .dataframe thead th {\n",
       "        text-align: right;\n",
       "    }\n",
       "</style>\n",
       "<table border=\"1\" class=\"dataframe\">\n",
       "  <thead>\n",
       "    <tr style=\"text-align: right;\">\n",
       "      <th></th>\n",
       "      <th>Species</th>\n",
       "      <th>Weight</th>\n",
       "      <th>Length1</th>\n",
       "      <th>Length2</th>\n",
       "      <th>Length3</th>\n",
       "      <th>Height</th>\n",
       "      <th>Width</th>\n",
       "    </tr>\n",
       "  </thead>\n",
       "  <tbody>\n",
       "    <tr>\n",
       "      <th>0</th>\n",
       "      <td>Bream</td>\n",
       "      <td>242.0</td>\n",
       "      <td>23.2</td>\n",
       "      <td>25.4</td>\n",
       "      <td>30.0</td>\n",
       "      <td>11.5200</td>\n",
       "      <td>4.0200</td>\n",
       "    </tr>\n",
       "    <tr>\n",
       "      <th>1</th>\n",
       "      <td>Bream</td>\n",
       "      <td>290.0</td>\n",
       "      <td>24.0</td>\n",
       "      <td>26.3</td>\n",
       "      <td>31.2</td>\n",
       "      <td>12.4800</td>\n",
       "      <td>4.3056</td>\n",
       "    </tr>\n",
       "    <tr>\n",
       "      <th>2</th>\n",
       "      <td>Bream</td>\n",
       "      <td>340.0</td>\n",
       "      <td>23.9</td>\n",
       "      <td>26.5</td>\n",
       "      <td>31.1</td>\n",
       "      <td>12.3778</td>\n",
       "      <td>4.6961</td>\n",
       "    </tr>\n",
       "    <tr>\n",
       "      <th>3</th>\n",
       "      <td>Bream</td>\n",
       "      <td>363.0</td>\n",
       "      <td>26.3</td>\n",
       "      <td>29.0</td>\n",
       "      <td>33.5</td>\n",
       "      <td>12.7300</td>\n",
       "      <td>4.4555</td>\n",
       "    </tr>\n",
       "    <tr>\n",
       "      <th>4</th>\n",
       "      <td>Bream</td>\n",
       "      <td>430.0</td>\n",
       "      <td>26.5</td>\n",
       "      <td>29.0</td>\n",
       "      <td>34.0</td>\n",
       "      <td>12.4440</td>\n",
       "      <td>5.1340</td>\n",
       "    </tr>\n",
       "  </tbody>\n",
       "</table>\n",
       "</div>"
      ],
      "text/plain": [
       "  Species  Weight  Length1  Length2  Length3   Height   Width\n",
       "0   Bream   242.0     23.2     25.4     30.0  11.5200  4.0200\n",
       "1   Bream   290.0     24.0     26.3     31.2  12.4800  4.3056\n",
       "2   Bream   340.0     23.9     26.5     31.1  12.3778  4.6961\n",
       "3   Bream   363.0     26.3     29.0     33.5  12.7300  4.4555\n",
       "4   Bream   430.0     26.5     29.0     34.0  12.4440  5.1340"
      ]
     },
     "execution_count": 68,
     "metadata": {},
     "output_type": "execute_result"
    }
   ],
   "source": [
    "# Weight is the dependent variable\n",
    "df = pd.read_csv('Fish_dataset.csv')\n",
    "df.head()"
   ]
  },
  {
   "cell_type": "code",
   "execution_count": 69,
   "metadata": {},
   "outputs": [
    {
     "data": {
      "text/plain": [
       "Perch        56\n",
       "Bream        35\n",
       "Roach        20\n",
       "Pike         17\n",
       "Smelt        14\n",
       "Parkki       11\n",
       "Whitefish     6\n",
       "Name: Species, dtype: int64"
      ]
     },
     "execution_count": 69,
     "metadata": {},
     "output_type": "execute_result"
    }
   ],
   "source": [
    "df['Species'].value_counts()"
   ]
  },
  {
   "cell_type": "code",
   "execution_count": 70,
   "metadata": {},
   "outputs": [
    {
     "data": {
      "image/png": "[encoded data removed]",
      "text/plain": [
       "<Figure size 432x288 with 1 Axes>"
      ]
     },
     "metadata": {
      "needs_background": "light"
     },
     "output_type": "display_data"
    }
   ],
   "source": [
    "df['Species_Count'] = df['Species'].map({'Perch':56,'Bream':35,'Roach':20,'Pike':17,'Smelt':14,'Parkki':11,'Whitefish':6})\n",
    "bar, ax = plt.subplots()\n",
    "ax = sns.barplot(x='Species', y=df['Species_Count'], data=df)"
   ]
  },
  {
   "cell_type": "code",
   "execution_count": 71,
   "metadata": {},
   "outputs": [
    {
     "data": {
      "text/plain": [
       "(159, 8)"
      ]
     },
     "execution_count": 71,
     "metadata": {},
     "output_type": "execute_result"
    }
   ],
   "source": [
    "df.shape"
   ]
  },
  {
   "cell_type": "code",
   "execution_count": 72,
   "metadata": {},
   "outputs": [
    {
     "data": {
      "text/plain": [
       "(156, 8)"
      ]
     },
     "execution_count": 72,
     "metadata": {},
     "output_type": "execute_result"
    }
   ],
   "source": [
    "q1 = df['Weight'].quantile(0.25)\n",
    "q3 = df['Weight'].quantile(0.75)\n",
    "iqr = abs(q3 - q1)\n",
    "lower_limit = q1 - 1.5*iqr\n",
    "upper_limit = q3 + 1.5*iqr\n",
    "df = df[(df['Weight']>lower_limit)&(df['Weight']<upper_limit)]\n",
    "df = df.dropna()\n",
    "df.shape"
   ]
  },
  {
   "cell_type": "code",
   "execution_count": 73,
   "metadata": {},
   "outputs": [
    {
     "data": {
      "text/html": [
       "<div>\n",
       "<style scoped>\n",
       "    .dataframe tbody tr th:only-of-type {\n",
       "        vertical-align: middle;\n",
       "    }\n",
       "\n",
       "    .dataframe tbody tr th {\n",
       "        vertical-align: top;\n",
       "    }\n",
       "\n",
       "    .dataframe thead th {\n",
       "        text-align: right;\n",
       "    }\n",
       "</style>\n",
       "<table border=\"1\" class=\"dataframe\">\n",
       "  <thead>\n",
       "    <tr style=\"text-align: right;\">\n",
       "      <th></th>\n",
       "      <th>Length1</th>\n",
       "      <th>Length2</th>\n",
       "      <th>Length3</th>\n",
       "      <th>Height</th>\n",
       "      <th>Width</th>\n",
       "      <th>Species_Bream</th>\n",
       "      <th>Species_Parkki</th>\n",
       "      <th>Species_Perch</th>\n",
       "      <th>Species_Pike</th>\n",
       "      <th>Species_Roach</th>\n",
       "      <th>Species_Smelt</th>\n",
       "      <th>Species_Whitefish</th>\n",
       "    </tr>\n",
       "  </thead>\n",
       "  <tbody>\n",
       "    <tr>\n",
       "      <th>0</th>\n",
       "      <td>23.2</td>\n",
       "      <td>25.4</td>\n",
       "      <td>30.0</td>\n",
       "      <td>11.5200</td>\n",
       "      <td>4.0200</td>\n",
       "      <td>1</td>\n",
       "      <td>0</td>\n",
       "      <td>0</td>\n",
       "      <td>0</td>\n",
       "      <td>0</td>\n",
       "      <td>0</td>\n",
       "      <td>0</td>\n",
       "    </tr>\n",
       "    <tr>\n",
       "      <th>1</th>\n",
       "      <td>24.0</td>\n",
       "      <td>26.3</td>\n",
       "      <td>31.2</td>\n",
       "      <td>12.4800</td>\n",
       "      <td>4.3056</td>\n",
       "      <td>1</td>\n",
       "      <td>0</td>\n",
       "      <td>0</td>\n",
       "      <td>0</td>\n",
       "      <td>0</td>\n",
       "      <td>0</td>\n",
       "      <td>0</td>\n",
       "    </tr>\n",
       "    <tr>\n",
       "      <th>2</th>\n",
       "      <td>23.9</td>\n",
       "      <td>26.5</td>\n",
       "      <td>31.1</td>\n",
       "      <td>12.3778</td>\n",
       "      <td>4.6961</td>\n",
       "      <td>1</td>\n",
       "      <td>0</td>\n",
       "      <td>0</td>\n",
       "      <td>0</td>\n",
       "      <td>0</td>\n",
       "      <td>0</td>\n",
       "      <td>0</td>\n",
       "    </tr>\n",
       "    <tr>\n",
       "      <th>3</th>\n",
       "      <td>26.3</td>\n",
       "      <td>29.0</td>\n",
       "      <td>33.5</td>\n",
       "      <td>12.7300</td>\n",
       "      <td>4.4555</td>\n",
       "      <td>1</td>\n",
       "      <td>0</td>\n",
       "      <td>0</td>\n",
       "      <td>0</td>\n",
       "      <td>0</td>\n",
       "      <td>0</td>\n",
       "      <td>0</td>\n",
       "    </tr>\n",
       "    <tr>\n",
       "      <th>4</th>\n",
       "      <td>26.5</td>\n",
       "      <td>29.0</td>\n",
       "      <td>34.0</td>\n",
       "      <td>12.4440</td>\n",
       "      <td>5.1340</td>\n",
       "      <td>1</td>\n",
       "      <td>0</td>\n",
       "      <td>0</td>\n",
       "      <td>0</td>\n",
       "      <td>0</td>\n",
       "      <td>0</td>\n",
       "      <td>0</td>\n",
       "    </tr>\n",
       "  </tbody>\n",
       "</table>\n",
       "</div>"
      ],
      "text/plain": [
       "   Length1  Length2  Length3   Height   Width  Species_Bream  Species_Parkki  \\\n",
       "0     23.2     25.4     30.0  11.5200  4.0200              1               0   \n",
       "1     24.0     26.3     31.2  12.4800  4.3056              1               0   \n",
       "2     23.9     26.5     31.1  12.3778  4.6961              1               0   \n",
       "3     26.3     29.0     33.5  12.7300  4.4555              1               0   \n",
       "4     26.5     29.0     34.0  12.4440  5.1340              1               0   \n",
       "\n",
       "   Species_Perch  Species_Pike  Species_Roach  Species_Smelt  \\\n",
       "0              0             0              0              0   \n",
       "1              0             0              0              0   \n",
       "2              0             0              0              0   \n",
       "3              0             0              0              0   \n",
       "4              0             0              0              0   \n",
       "\n",
       "   Species_Whitefish  \n",
       "0                  0  \n",
       "1                  0  \n",
       "2                  0  \n",
       "3                  0  \n",
       "4                  0  "
      ]
     },
     "execution_count": 73,
     "metadata": {},
     "output_type": "execute_result"
    }
   ],
   "source": [
    "# One hot encoding data\n",
    "x = df.drop(['Weight','Species_Count'], axis='columns')\n",
    "y = df['Weight']\n",
    "\n",
    "x = pd.get_dummies(x)\n",
    "x.head()"
   ]
  },
  {
   "cell_type": "code",
   "execution_count": 74,
   "metadata": {},
   "outputs": [
    {
     "name": "stdout",
     "output_type": "stream",
     "text": [
      "Length1+Length2+Length3+Height+Width+Species_Bream+Species_Parkki+Species_Perch+Species_Pike+Species_Roach+Species_Smelt+Species_Whitefish+Weight+"
     ]
    }
   ],
   "source": [
    "# Splitting\n",
    "x_train, x_test, y_train, y_test = train_test_split(x,y,test_size=0.3,random_state=0)\n",
    "\n",
    "train_data = pd.concat([x_train,y_train], axis='columns')\n",
    "test_data = pd.concat([x_test,y_test], axis='columns')\n",
    "\n",
    "for i in train_data.columns:\n",
    "    print(i+\"+\", end=\"\")"
   ]
  },
  {
   "cell_type": "code",
   "execution_count": 75,
   "metadata": {},
   "outputs": [
    {
     "name": "stdout",
     "output_type": "stream",
     "text": [
      "KstestResult(statistic=0.9935897417722358, pvalue=0.0)\n",
      "AndersonResult(statistic=5.591147500315174, critical_values=array([0.562, 0.64 , 0.768, 0.896, 1.066]), significance_level=array([15. , 10. ,  5. ,  2.5,  1. ]))\n",
      "ShapiroResult(statistic=0.897249698638916, pvalue=5.5507900498241725e-09)\n"
     ]
    }
   ],
   "source": [
    "from scipy.stats import kstest\n",
    "print(kstest(y, 'norm'))\n",
    "# p value = 0 => Reject H0 \n",
    "\n",
    "from scipy.stats import anderson\n",
    "print(anderson(y, 'norm'))\n",
    "\n",
    "from scipy.stats import shapiro\n",
    "print(shapiro(y))\n",
    "# p value = 0 => Reject H0"
   ]
  },
  {
   "cell_type": "code",
   "execution_count": 76,
   "metadata": {},
   "outputs": [
    {
     "data": {
      "text/html": [
       "<table class=\"simpletable\">\n",
       "<caption>OLS Regression Results</caption>\n",
       "<tr>\n",
       "  <th>Dep. Variable:</th>         <td>Weight</td>      <th>  R-squared:         </th> <td>   0.945</td>\n",
       "</tr>\n",
       "<tr>\n",
       "  <th>Model:</th>                   <td>OLS</td>       <th>  Adj. R-squared:    </th> <td>   0.939</td>\n",
       "</tr>\n",
       "<tr>\n",
       "  <th>Method:</th>             <td>Least Squares</td>  <th>  F-statistic:       </th> <td>   152.1</td>\n",
       "</tr>\n",
       "<tr>\n",
       "  <th>Date:</th>             <td>Mon, 19 Apr 2021</td> <th>  Prob (F-statistic):</th> <td>4.99e-56</td>\n",
       "</tr>\n",
       "<tr>\n",
       "  <th>Time:</th>                 <td>17:21:36</td>     <th>  Log-Likelihood:    </th> <td> -628.47</td>\n",
       "</tr>\n",
       "<tr>\n",
       "  <th>No. Observations:</th>      <td>   109</td>      <th>  AIC:               </th> <td>   1281.</td>\n",
       "</tr>\n",
       "<tr>\n",
       "  <th>Df Residuals:</th>          <td>    97</td>      <th>  BIC:               </th> <td>   1313.</td>\n",
       "</tr>\n",
       "<tr>\n",
       "  <th>Df Model:</th>              <td>    11</td>      <th>                     </th>     <td> </td>   \n",
       "</tr>\n",
       "<tr>\n",
       "  <th>Covariance Type:</th>      <td>nonrobust</td>    <th>                     </th>     <td> </td>   \n",
       "</tr>\n",
       "</table>\n",
       "<table class=\"simpletable\">\n",
       "<tr>\n",
       "          <td></td>             <th>coef</th>     <th>std err</th>      <th>t</th>      <th>P>|t|</th>  <th>[0.025</th>    <th>0.975]</th>  \n",
       "</tr>\n",
       "<tr>\n",
       "  <th>Intercept</th>         <td> -496.3772</td> <td>   59.485</td> <td>   -8.345</td> <td> 0.000</td> <td> -614.438</td> <td> -378.317</td>\n",
       "</tr>\n",
       "<tr>\n",
       "  <th>Length1</th>           <td>    9.6572</td> <td>   40.629</td> <td>    0.238</td> <td> 0.813</td> <td>  -70.980</td> <td>   90.295</td>\n",
       "</tr>\n",
       "<tr>\n",
       "  <th>Length2</th>           <td>   54.0057</td> <td>   45.777</td> <td>    1.180</td> <td> 0.241</td> <td>  -36.849</td> <td>  144.860</td>\n",
       "</tr>\n",
       "<tr>\n",
       "  <th>Length3</th>           <td>  -50.2613</td> <td>   33.656</td> <td>   -1.493</td> <td> 0.139</td> <td> -117.059</td> <td>   16.536</td>\n",
       "</tr>\n",
       "<tr>\n",
       "  <th>Height</th>            <td>   62.8456</td> <td>   16.049</td> <td>    3.916</td> <td> 0.000</td> <td>   30.992</td> <td>   94.699</td>\n",
       "</tr>\n",
       "<tr>\n",
       "  <th>Width</th>             <td>   45.1325</td> <td>   27.604</td> <td>    1.635</td> <td> 0.105</td> <td>   -9.654</td> <td>   99.919</td>\n",
       "</tr>\n",
       "<tr>\n",
       "  <th>Species_Bream</th>     <td> -238.3859</td> <td>   92.673</td> <td>   -2.572</td> <td> 0.012</td> <td> -422.315</td> <td>  -54.456</td>\n",
       "</tr>\n",
       "<tr>\n",
       "  <th>Species_Parkki</th>    <td> -209.8052</td> <td>   48.799</td> <td>   -4.299</td> <td> 0.000</td> <td> -306.658</td> <td> -112.953</td>\n",
       "</tr>\n",
       "<tr>\n",
       "  <th>Species_Perch</th>     <td>  -78.1399</td> <td>   38.656</td> <td>   -2.021</td> <td> 0.046</td> <td> -154.862</td> <td>   -1.418</td>\n",
       "</tr>\n",
       "<tr>\n",
       "  <th>Species_Pike</th>      <td>  -12.5881</td> <td>   95.912</td> <td>   -0.131</td> <td> 0.896</td> <td> -202.948</td> <td>  177.771</td>\n",
       "</tr>\n",
       "<tr>\n",
       "  <th>Species_Roach</th>     <td>  -67.2286</td> <td>   26.011</td> <td>   -2.585</td> <td> 0.011</td> <td> -118.853</td> <td>  -15.604</td>\n",
       "</tr>\n",
       "<tr>\n",
       "  <th>Species_Smelt</th>     <td>  209.1598</td> <td>   40.177</td> <td>    5.206</td> <td> 0.000</td> <td>  129.420</td> <td>  288.899</td>\n",
       "</tr>\n",
       "<tr>\n",
       "  <th>Species_Whitefish</th> <td>  -99.3892</td> <td>   41.033</td> <td>   -2.422</td> <td> 0.017</td> <td> -180.828</td> <td>  -17.950</td>\n",
       "</tr>\n",
       "</table>\n",
       "<table class=\"simpletable\">\n",
       "<tr>\n",
       "  <th>Omnibus:</th>       <td>23.981</td> <th>  Durbin-Watson:     </th> <td>   2.141</td>\n",
       "</tr>\n",
       "<tr>\n",
       "  <th>Prob(Omnibus):</th> <td> 0.000</td> <th>  Jarque-Bera (JB):  </th> <td>  37.850</td>\n",
       "</tr>\n",
       "<tr>\n",
       "  <th>Skew:</th>          <td> 0.998</td> <th>  Prob(JB):          </th> <td>6.04e-09</td>\n",
       "</tr>\n",
       "<tr>\n",
       "  <th>Kurtosis:</th>      <td> 5.086</td> <th>  Cond. No.          </th> <td>6.74e+17</td>\n",
       "</tr>\n",
       "</table><br/><br/>Warnings:<br/>[1] Standard Errors assume that the covariance matrix of the errors is correctly specified.<br/>[2] The smallest eigenvalue is 6.5e-31. This might indicate that there are<br/>strong multicollinearity problems or that the design matrix is singular."
      ],
      "text/plain": [
       "<class 'statsmodels.iolib.summary.Summary'>\n",
       "\"\"\"\n",
       "                            OLS Regression Results                            \n",
       "==============================================================================\n",
       "Dep. Variable:                 Weight   R-squared:                       0.945\n",
       "Model:                            OLS   Adj. R-squared:                  0.939\n",
       "Method:                 Least Squares   F-statistic:                     152.1\n",
       "Date:                Mon, 19 Apr 2021   Prob (F-statistic):           4.99e-56\n",
       "Time:                        17:21:36   Log-Likelihood:                -628.47\n",
       "No. Observations:                 109   AIC:                             1281.\n",
       "Df Residuals:                      97   BIC:                             1313.\n",
       "Df Model:                          11                                         \n",
       "Covariance Type:            nonrobust                                         \n",
       "=====================================================================================\n",
       "                        coef    std err          t      P>|t|      [0.025      0.975]\n",
       "-------------------------------------------------------------------------------------\n",
       "Intercept          -496.3772     59.485     -8.345      0.000    -614.438    -378.317\n",
       "Length1               9.6572     40.629      0.238      0.813     -70.980      90.295\n",
       "Length2              54.0057     45.777      1.180      0.241     -36.849     144.860\n",
       "Length3             -50.2613     33.656     -1.493      0.139    -117.059      16.536\n",
       "Height               62.8456     16.049      3.916      0.000      30.992      94.699\n",
       "Width                45.1325     27.604      1.635      0.105      -9.654      99.919\n",
       "Species_Bream      -238.3859     92.673     -2.572      0.012    -422.315     -54.456\n",
       "Species_Parkki     -209.8052     48.799     -4.299      0.000    -306.658    -112.953\n",
       "Species_Perch       -78.1399     38.656     -2.021      0.046    -154.862      -1.418\n",
       "Species_Pike        -12.5881     95.912     -0.131      0.896    -202.948     177.771\n",
       "Species_Roach       -67.2286     26.011     -2.585      0.011    -118.853     -15.604\n",
       "Species_Smelt       209.1598     40.177      5.206      0.000     129.420     288.899\n",
       "Species_Whitefish   -99.3892     41.033     -2.422      0.017    -180.828     -17.950\n",
       "==============================================================================\n",
       "Omnibus:                       23.981   Durbin-Watson:                   2.141\n",
       "Prob(Omnibus):                  0.000   Jarque-Bera (JB):               37.850\n",
       "Skew:                           0.998   Prob(JB):                     6.04e-09\n",
       "Kurtosis:                       5.086   Cond. No.                     6.74e+17\n",
       "==============================================================================\n",
       "\n",
       "Warnings:\n",
       "[1] Standard Errors assume that the covariance matrix of the errors is correctly specified.\n",
       "[2] The smallest eigenvalue is 6.5e-31. This might indicate that there are\n",
       "strong multicollinearity problems or that the design matrix is singular.\n",
       "\"\"\""
      ]
     },
     "execution_count": 76,
     "metadata": {},
     "output_type": "execute_result"
    }
   ],
   "source": [
    "from statsmodels.formula.api import ols\n",
    "lmodel = ols('Weight~Length1+Length2+Length3+Height+Width+Species_Bream+Species_Parkki+Species_Perch+Species_Pike+Species_Roach+Species_Smelt+Species_Whitefish',data=train_data).fit()\n",
    "lmodel.summary()"
   ]
  },
  {
   "cell_type": "code",
   "execution_count": 77,
   "metadata": {},
   "outputs": [
    {
     "data": {
      "text/plain": [
       "(77.23671820450521, 76.63620101792768)"
      ]
     },
     "execution_count": 77,
     "metadata": {},
     "output_type": "execute_result"
    }
   ],
   "source": [
    "y_pred_train = lmodel.predict(x_train)\n",
    "y_pred_test = lmodel.predict(x_test)\n",
    "\n",
    "from sklearn.metrics import mean_squared_error\n",
    "import numpy as np\n",
    "np.sqrt(mean_squared_error(y_train,y_pred_train)),np.sqrt(mean_squared_error(y_test,y_pred_test))"
   ]
  },
  {
   "cell_type": "code",
   "execution_count": 78,
   "metadata": {},
   "outputs": [
    {
     "name": "stdout",
     "output_type": "stream",
     "text": [
      "(0.752170009187922, 0.8210940376083031, 'increasing')\n",
      "2.1414680413217915\n"
     ]
    }
   ],
   "source": [
    "# Heteroskedasticity test\n",
    "from statsmodels.stats.diagnostic import het_breuschpagan,het_white, het_goldfeldquandt\n",
    "print(het_goldfeldquandt(y_train,x_train))\n",
    "\n",
    "# Autocorrelation test\n",
    "from statsmodels.stats.stattools import durbin_watson\n",
    "print(durbin_watson(lmodel.resid))"
   ]
  },
  {
   "cell_type": "code",
   "execution_count": 79,
   "metadata": {},
   "outputs": [
    {
     "data": {
      "text/plain": [
       "[2342.8939853371676,\n",
       " 3425.3969665957884,\n",
       " 2201.347771230119,\n",
       " 78.35535183237441,\n",
       " 36.3383330848073,\n",
       " 66.04376670154194,\n",
       " 6.193330302607298,\n",
       " 13.785074474196474,\n",
       " 24.855241183428802,\n",
       " 9.767122563608968,\n",
       " 3.620328198681016,\n",
       " 3.628759156434598]"
      ]
     },
     "execution_count": 79,
     "metadata": {},
     "output_type": "execute_result"
    }
   ],
   "source": [
    "# VIF > 5 => high multicollinearity => undesirable\n",
    "from statsmodels.stats.outliers_influence import variance_inflation_factor\n",
    "vif = []\n",
    "for i in range(x_train.shape[1]):\n",
    "    v = variance_inflation_factor(x_train.values,i)\n",
    "    vif.append(v)\n",
    "    \n",
    "vif"
   ]
  },
  {
   "cell_type": "code",
   "execution_count": 80,
   "metadata": {},
   "outputs": [
    {
     "data": {
      "text/plain": [
       "array([0.32321603, 0.59326178, 0.73050999, 0.84147256, 0.9196548 ,\n",
       "       0.96529437, 0.9980922 , 0.99932313, 0.99997595, 0.99999179,\n",
       "       1.        , 1.        ])"
      ]
     },
     "execution_count": 80,
     "metadata": {},
     "output_type": "execute_result"
    }
   ],
   "source": [
    "# PCA to reduce multicollinearity\n",
    "# Data should be normal for PCA\n",
    "from sklearn.decomposition import PCA\n",
    "\n",
    "scaler = MinMaxScaler()\n",
    "scaler.fit(x_train)\n",
    "x_train = scaler.transform(x_train)\n",
    "x_test = scaler.transform(x_test)\n",
    "\n",
    "pca_train = PCA()\n",
    "pca_train.fit(x_train)\n",
    "x_train_pca = pca_train.transform(x_train)\n",
    "\n",
    "pca_test = PCA()\n",
    "pca_test.fit(x_test)\n",
    "x_test_pca = pca_train.transform(x_test)\n",
    "\n",
    "pca_train.explained_variance_ratio_.cumsum()"
   ]
  },
  {
   "cell_type": "code",
   "execution_count": 81,
   "metadata": {},
   "outputs": [
    {
     "data": {
      "text/plain": [
       "(120.36988209914874, 104.69960719100173)"
      ]
     },
     "execution_count": 81,
     "metadata": {},
     "output_type": "execute_result"
    }
   ],
   "source": [
    "pca_train_df = pd.DataFrame(data=x_train_pca, columns=['PC1','PC2', 'PC3', 'PC4', 'PC5', 'PC6', 'PC7', 'PC8', 'PC9', 'PC10', 'PC11', 'PC12' ])\n",
    "pca_test_df = pd.DataFrame(data=x_test_pca, columns=['PC1','PC2', 'PC3', 'PC4', 'PC5', 'PC6', 'PC7', 'PC8', 'PC9', 'PC10', 'PC11', 'PC12' ])\n",
    "\n",
    "pca_train_df['target'] = y_train.values\n",
    "pca_test_df['target'] = y_test.values\n",
    "\n",
    "lmodel_pca = ols('target~PC1+PC2+PC3+PC4+PC5', data=pca_train_df).fit()\n",
    "\n",
    "pred_train = lmodel_pca.predict(pca_train_df)\n",
    "pred_test = lmodel_pca.predict(pca_test_df) \n",
    "\n",
    "from sklearn.metrics import mean_squared_error\n",
    "mse_train = mean_squared_error(pca_train_df['target'],pred_train)\n",
    "mse_test = mean_squared_error(pca_test_df['target'], pred_test)\n",
    "\n",
    "import numpy as np\n",
    "np.sqrt(mse_train), np.sqrt(mse_test)"
   ]
  },
  {
   "cell_type": "code",
   "execution_count": 82,
   "metadata": {},
   "outputs": [
    {
     "data": {
      "text/html": [
       "<table class=\"simpletable\">\n",
       "<caption>OLS Regression Results</caption>\n",
       "<tr>\n",
       "  <th>Dep. Variable:</th>         <td>target</td>      <th>  R-squared:         </th> <td>   0.867</td>\n",
       "</tr>\n",
       "<tr>\n",
       "  <th>Model:</th>                   <td>OLS</td>       <th>  Adj. R-squared:    </th> <td>   0.859</td>\n",
       "</tr>\n",
       "<tr>\n",
       "  <th>Method:</th>             <td>Least Squares</td>  <th>  F-statistic:       </th> <td>   110.7</td>\n",
       "</tr>\n",
       "<tr>\n",
       "  <th>Date:</th>             <td>Mon, 19 Apr 2021</td> <th>  Prob (F-statistic):</th> <td>2.24e-42</td>\n",
       "</tr>\n",
       "<tr>\n",
       "  <th>Time:</th>                 <td>17:22:08</td>     <th>  Log-Likelihood:    </th> <td> -676.84</td>\n",
       "</tr>\n",
       "<tr>\n",
       "  <th>No. Observations:</th>      <td>   109</td>      <th>  AIC:               </th> <td>   1368.</td>\n",
       "</tr>\n",
       "<tr>\n",
       "  <th>Df Residuals:</th>          <td>   102</td>      <th>  BIC:               </th> <td>   1387.</td>\n",
       "</tr>\n",
       "<tr>\n",
       "  <th>Df Model:</th>              <td>     6</td>      <th>                     </th>     <td> </td>   \n",
       "</tr>\n",
       "<tr>\n",
       "  <th>Covariance Type:</th>      <td>nonrobust</td>    <th>                     </th>     <td> </td>   \n",
       "</tr>\n",
       "</table>\n",
       "<table class=\"simpletable\">\n",
       "<tr>\n",
       "      <td></td>         <th>coef</th>     <th>std err</th>      <th>t</th>      <th>P>|t|</th>  <th>[0.025</th>    <th>0.975]</th>  \n",
       "</tr>\n",
       "<tr>\n",
       "  <th>Intercept</th> <td>  368.7257</td> <td>   11.918</td> <td>   30.938</td> <td> 0.000</td> <td>  345.086</td> <td>  392.366</td>\n",
       "</tr>\n",
       "<tr>\n",
       "  <th>PC1</th>       <td>  408.7947</td> <td>   20.565</td> <td>   19.878</td> <td> 0.000</td> <td>  368.004</td> <td>  449.586</td>\n",
       "</tr>\n",
       "<tr>\n",
       "  <th>PC2</th>       <td>  293.2078</td> <td>   22.499</td> <td>   13.032</td> <td> 0.000</td> <td>  248.581</td> <td>  337.834</td>\n",
       "</tr>\n",
       "<tr>\n",
       "  <th>PC3</th>       <td>  136.4666</td> <td>   31.559</td> <td>    4.324</td> <td> 0.000</td> <td>   73.869</td> <td>  199.064</td>\n",
       "</tr>\n",
       "<tr>\n",
       "  <th>PC4</th>       <td>  100.5629</td> <td>   35.099</td> <td>    2.865</td> <td> 0.005</td> <td>   30.945</td> <td>  170.181</td>\n",
       "</tr>\n",
       "<tr>\n",
       "  <th>PC5</th>       <td>  -89.7708</td> <td>   41.814</td> <td>   -2.147</td> <td> 0.034</td> <td> -172.709</td> <td>   -6.832</td>\n",
       "</tr>\n",
       "<tr>\n",
       "  <th>PC6</th>       <td>  450.7974</td> <td>   54.728</td> <td>    8.237</td> <td> 0.000</td> <td>  342.245</td> <td>  559.350</td>\n",
       "</tr>\n",
       "</table>\n",
       "<table class=\"simpletable\">\n",
       "<tr>\n",
       "  <th>Omnibus:</th>       <td> 9.154</td> <th>  Durbin-Watson:     </th> <td>   2.464</td>\n",
       "</tr>\n",
       "<tr>\n",
       "  <th>Prob(Omnibus):</th> <td> 0.010</td> <th>  Jarque-Bera (JB):  </th> <td>  13.682</td>\n",
       "</tr>\n",
       "<tr>\n",
       "  <th>Skew:</th>          <td>-0.370</td> <th>  Prob(JB):          </th> <td> 0.00107</td>\n",
       "</tr>\n",
       "<tr>\n",
       "  <th>Kurtosis:</th>      <td> 4.570</td> <th>  Cond. No.          </th> <td>    4.59</td>\n",
       "</tr>\n",
       "</table><br/><br/>Warnings:<br/>[1] Standard Errors assume that the covariance matrix of the errors is correctly specified."
      ],
      "text/plain": [
       "<class 'statsmodels.iolib.summary.Summary'>\n",
       "\"\"\"\n",
       "                            OLS Regression Results                            \n",
       "==============================================================================\n",
       "Dep. Variable:                 target   R-squared:                       0.867\n",
       "Model:                            OLS   Adj. R-squared:                  0.859\n",
       "Method:                 Least Squares   F-statistic:                     110.7\n",
       "Date:                Mon, 19 Apr 2021   Prob (F-statistic):           2.24e-42\n",
       "Time:                        17:22:08   Log-Likelihood:                -676.84\n",
       "No. Observations:                 109   AIC:                             1368.\n",
       "Df Residuals:                     102   BIC:                             1387.\n",
       "Df Model:                           6                                         \n",
       "Covariance Type:            nonrobust                                         \n",
       "==============================================================================\n",
       "                 coef    std err          t      P>|t|      [0.025      0.975]\n",
       "------------------------------------------------------------------------------\n",
       "Intercept    368.7257     11.918     30.938      0.000     345.086     392.366\n",
       "PC1          408.7947     20.565     19.878      0.000     368.004     449.586\n",
       "PC2          293.2078     22.499     13.032      0.000     248.581     337.834\n",
       "PC3          136.4666     31.559      4.324      0.000      73.869     199.064\n",
       "PC4          100.5629     35.099      2.865      0.005      30.945     170.181\n",
       "PC5          -89.7708     41.814     -2.147      0.034    -172.709      -6.832\n",
       "PC6          450.7974     54.728      8.237      0.000     342.245     559.350\n",
       "==============================================================================\n",
       "Omnibus:                        9.154   Durbin-Watson:                   2.464\n",
       "Prob(Omnibus):                  0.010   Jarque-Bera (JB):               13.682\n",
       "Skew:                          -0.370   Prob(JB):                      0.00107\n",
       "Kurtosis:                       4.570   Cond. No.                         4.59\n",
       "==============================================================================\n",
       "\n",
       "Warnings:\n",
       "[1] Standard Errors assume that the covariance matrix of the errors is correctly specified.\n",
       "\"\"\""
      ]
     },
     "execution_count": 82,
     "metadata": {},
     "output_type": "execute_result"
    }
   ],
   "source": [
    "lmodel_pca.summary()"
   ]
  },
  {
   "cell_type": "code",
   "execution_count": null,
   "metadata": {},
   "outputs": [],
   "source": []
  },
  {
   "cell_type": "code",
   "execution_count": null,
   "metadata": {},
   "outputs": [],
   "source": []
  },
  {
   "cell_type": "code",
   "execution_count": null,
   "metadata": {},
   "outputs": [],
   "source": []
  }
 ],
 "metadata": {
  "kernelspec": {
   "display_name": "Python 3",
   "language": "python",
   "name": "python3"
  },
  "language_info": {
   "codemirror_mode": {
    "name": "ipython",
    "version": 3
   },
   "file_extension": ".py",
   "mimetype": "text/x-python",
   "name": "python",
   "nbconvert_exporter": "python",
   "pygments_lexer": "ipython3",
   "version": "3.8.3"
  }
 },
 "nbformat": 4,
 "nbformat_minor": 4
}
